{
 "cells": [
  {
   "cell_type": "code",
   "execution_count": 1,
   "id": "17adfc53",
   "metadata": {},
   "outputs": [],
   "source": [
    "import numpy as np\n",
    "y_pred = np.array([1,1,0,0,1])\n",
    "y_true = np.array([0.3,0.7,1,0,0.5])"
   ]
  },
  {
   "cell_type": "code",
   "execution_count": 8,
   "id": "00e33fff",
   "metadata": {},
   "outputs": [],
   "source": [
    "def mse(y_true,y_predicted):\n",
    "    total_err = 0\n",
    "    for i,j in zip(y_true,y_predicted):\n",
    "        total_err += (i-j)**2\n",
    "        \n",
    "    return (total_err/len(y_true))"
   ]
  },
  {
   "cell_type": "code",
   "execution_count": 9,
   "id": "7a4a1973",
   "metadata": {},
   "outputs": [
    {
     "data": {
      "text/plain": [
       "0.366"
      ]
     },
     "execution_count": 9,
     "metadata": {},
     "output_type": "execute_result"
    }
   ],
   "source": [
    "mse(y_true,y_pred)"
   ]
  },
  {
   "cell_type": "code",
   "execution_count": 4,
   "id": "af57496e",
   "metadata": {},
   "outputs": [
    {
     "data": {
      "text/plain": [
       "0.5"
      ]
     },
     "execution_count": 4,
     "metadata": {},
     "output_type": "execute_result"
    }
   ],
   "source": [
    "np.mean(abs(y_pred-y_true))"
   ]
  },
  {
   "cell_type": "code",
   "execution_count": 5,
   "id": "06e4d652",
   "metadata": {},
   "outputs": [
    {
     "data": {
      "text/plain": [
       "0.366"
      ]
     },
     "execution_count": 5,
     "metadata": {},
     "output_type": "execute_result"
    }
   ],
   "source": [
    "np.mean(pow((y_pred - y_true),2))"
   ]
  },
  {
   "cell_type": "code",
   "execution_count": 10,
   "id": "01778606",
   "metadata": {},
   "outputs": [],
   "source": [
    " epsilon = 1e-15"
   ]
  },
  {
   "cell_type": "code",
   "execution_count": 14,
   "id": "b04a9501",
   "metadata": {},
   "outputs": [
    {
     "data": {
      "text/plain": [
       "[1, 1, 1e-15, 1e-15, 1]"
      ]
     },
     "execution_count": 14,
     "metadata": {},
     "output_type": "execute_result"
    }
   ],
   "source": [
    "y_pred_new = [max(i,epsilon) for i in y_pred]\n",
    "y_pred_new"
   ]
  },
  {
   "cell_type": "code",
   "execution_count": 15,
   "id": "79354b20",
   "metadata": {},
   "outputs": [
    {
     "data": {
      "text/plain": [
       "[0.999999999999999, 0.999999999999999, 1e-15, 1e-15, 0.999999999999999]"
      ]
     },
     "execution_count": 15,
     "metadata": {},
     "output_type": "execute_result"
    }
   ],
   "source": [
    "y_pred_new = [min(i,1-epsilon) for i in y_pred_new]\n",
    "y_pred_new"
   ]
  },
  {
   "cell_type": "code",
   "execution_count": 18,
   "id": "0fb9d8c0",
   "metadata": {},
   "outputs": [
    {
     "data": {
      "text/plain": [
       "17.2696280766844"
      ]
     },
     "execution_count": 18,
     "metadata": {},
     "output_type": "execute_result"
    }
   ],
   "source": [
    "y_pred_new = np.array(y_pred_new)\n",
    "-np.mean(np.log(y_pred_new)*y_true + np.log(1-y_pred_new)*(1-y_true))"
   ]
  },
  {
   "cell_type": "code",
   "execution_count": 19,
   "id": "26e68ce6",
   "metadata": {},
   "outputs": [],
   "source": [
    "def logloss(y_pred,y_true):\n",
    "    y_pred_new = [max(i,epsilon) for i in y_pred]\n",
    "    y_pred_new = [min(i,1-epsilon) for i in y_pred_new]\n",
    "    y_pred_new = np.array(y_pred_new)\n",
    "    \n",
    "    return -np.mean(np.log(y_pred_new)*y_true + np.log(1-y_pred_new)*(1-y_true))"
   ]
  },
  {
   "cell_type": "code",
   "execution_count": 20,
   "id": "45a971fc",
   "metadata": {},
   "outputs": [
    {
     "data": {
      "text/plain": [
       "17.2696280766844"
      ]
     },
     "execution_count": 20,
     "metadata": {},
     "output_type": "execute_result"
    }
   ],
   "source": [
    "logloss(y_pred,y_true)"
   ]
  },
  {
   "cell_type": "code",
   "execution_count": null,
   "id": "84633d84",
   "metadata": {},
   "outputs": [],
   "source": []
  }
 ],
 "metadata": {
  "kernelspec": {
   "display_name": "Python 3 (ipykernel)",
   "language": "python",
   "name": "python3"
  },
  "language_info": {
   "codemirror_mode": {
    "name": "ipython",
    "version": 3
   },
   "file_extension": ".py",
   "mimetype": "text/x-python",
   "name": "python",
   "nbconvert_exporter": "python",
   "pygments_lexer": "ipython3",
   "version": "3.9.13"
  }
 },
 "nbformat": 4,
 "nbformat_minor": 5
}
