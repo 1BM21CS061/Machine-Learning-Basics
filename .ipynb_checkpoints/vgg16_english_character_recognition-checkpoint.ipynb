{
 "cells": [
  {
   "cell_type": "code",
   "execution_count": 1,
   "id": "7f6dc6e7",
   "metadata": {},
   "outputs": [],
   "source": [
    "from keras.layers import Input, Lambda, Dense, Flatten\n",
    "from keras.models import Model\n",
    "from keras.applications.vgg16 import VGG16\n",
    "from keras.applications.vgg16 import preprocess_input\n",
    "from keras.preprocessing import image\n",
    "from keras.preprocessing.image import ImageDataGenerator\n",
    "from keras.models import Sequential\n",
    "import numpy as np\n",
    "from glob import glob\n",
    "import matplotlib.pyplot as plt"
   ]
  },
  {
   "cell_type": "code",
   "execution_count": 5,
   "id": "fde66edb",
   "metadata": {},
   "outputs": [
    {
     "data": {
      "text/plain": [
       "(900, 1200, 3)"
      ]
     },
     "execution_count": 5,
     "metadata": {},
     "output_type": "execute_result"
    }
   ],
   "source": [
    "import numpy as np\n",
    "from PIL import Image               # to load images\n",
    "from IPython.display import display # to display images\n",
    "\n",
    "pil_im = Image.open(r\"C:\\Users\\G Sai Madhav\\Desktop\\robotics\\3RD SEM project\\datast\\Img\\img014-048.png\")\n",
    "image = np.array(pil_im)\n",
    "image.shape"
   ]
  },
  {
   "cell_type": "code",
   "execution_count": 32,
   "id": "8337f0b2",
   "metadata": {},
   "outputs": [],
   "source": [
    "IMAGE_SIZE = [100,100]\n",
    "\n",
    "vgg = VGG16(input_shape=IMAGE_SIZE + [3], weights='imagenet', include_top=False)"
   ]
  },
  {
   "cell_type": "code",
   "execution_count": 33,
   "id": "e10bbb97",
   "metadata": {},
   "outputs": [],
   "source": [
    "for layer in vgg.layers:\n",
    "  layer.trainable = False"
   ]
  },
  {
   "cell_type": "code",
   "execution_count": 34,
   "id": "0cbab4f3",
   "metadata": {},
   "outputs": [],
   "source": [
    "x = Flatten()(vgg.output)\n",
    "prediction = Dense(26, activation='softmax')(x)\n"
   ]
  },
  {
   "cell_type": "code",
   "execution_count": 35,
   "id": "27099e5f",
   "metadata": {},
   "outputs": [],
   "source": [
    "model = Model(inputs=vgg.input, outputs=prediction)"
   ]
  },
  {
   "cell_type": "code",
   "execution_count": 36,
   "id": "fb4abf24",
   "metadata": {
    "scrolled": false
   },
   "outputs": [
    {
     "name": "stdout",
     "output_type": "stream",
     "text": [
      "Model: \"model_2\"\n",
      "_________________________________________________________________\n",
      " Layer (type)                Output Shape              Param #   \n",
      "=================================================================\n",
      " input_3 (InputLayer)        [(None, 100, 100, 3)]     0         \n",
      "                                                                 \n",
      " block1_conv1 (Conv2D)       (None, 100, 100, 64)      1792      \n",
      "                                                                 \n",
      " block1_conv2 (Conv2D)       (None, 100, 100, 64)      36928     \n",
      "                                                                 \n",
      " block1_pool (MaxPooling2D)  (None, 50, 50, 64)        0         \n",
      "                                                                 \n",
      " block2_conv1 (Conv2D)       (None, 50, 50, 128)       73856     \n",
      "                                                                 \n",
      " block2_conv2 (Conv2D)       (None, 50, 50, 128)       147584    \n",
      "                                                                 \n",
      " block2_pool (MaxPooling2D)  (None, 25, 25, 128)       0         \n",
      "                                                                 \n",
      " block3_conv1 (Conv2D)       (None, 25, 25, 256)       295168    \n",
      "                                                                 \n",
      " block3_conv2 (Conv2D)       (None, 25, 25, 256)       590080    \n",
      "                                                                 \n",
      " block3_conv3 (Conv2D)       (None, 25, 25, 256)       590080    \n",
      "                                                                 \n",
      " block3_pool (MaxPooling2D)  (None, 12, 12, 256)       0         \n",
      "                                                                 \n",
      " block4_conv1 (Conv2D)       (None, 12, 12, 512)       1180160   \n",
      "                                                                 \n",
      " block4_conv2 (Conv2D)       (None, 12, 12, 512)       2359808   \n",
      "                                                                 \n",
      " block4_conv3 (Conv2D)       (None, 12, 12, 512)       2359808   \n",
      "                                                                 \n",
      " block4_pool (MaxPooling2D)  (None, 6, 6, 512)         0         \n",
      "                                                                 \n",
      " block5_conv1 (Conv2D)       (None, 6, 6, 512)         2359808   \n",
      "                                                                 \n",
      " block5_conv2 (Conv2D)       (None, 6, 6, 512)         2359808   \n",
      "                                                                 \n",
      " block5_conv3 (Conv2D)       (None, 6, 6, 512)         2359808   \n",
      "                                                                 \n",
      " block5_pool (MaxPooling2D)  (None, 3, 3, 512)         0         \n",
      "                                                                 \n",
      " flatten_2 (Flatten)         (None, 4608)              0         \n",
      "                                                                 \n",
      " dense_2 (Dense)             (None, 26)                119834    \n",
      "                                                                 \n",
      "=================================================================\n",
      "Total params: 14,834,522\n",
      "Trainable params: 119,834\n",
      "Non-trainable params: 14,714,688\n",
      "_________________________________________________________________\n"
     ]
    }
   ],
   "source": [
    "model.summary()"
   ]
  },
  {
   "cell_type": "code",
   "execution_count": 37,
   "id": "47bc0cd9",
   "metadata": {},
   "outputs": [],
   "source": [
    "model.compile(\n",
    "  loss='categorical_crossentropy',\n",
    "  optimizer='adam',\n",
    "  metrics=['accuracy']\n",
    ")\n"
   ]
  },
  {
   "cell_type": "code",
   "execution_count": 8,
   "id": "84382c7d",
   "metadata": {},
   "outputs": [],
   "source": [
    "import numpy as np\n",
    "import pandas as pd\n",
    "import matplotlib.pyplot as plt\n",
    "import os\n",
    "\n",
    "import tensorflow as tf\n",
    "from tensorflow.keras.preprocessing.image import load_img, img_to_array\n",
    "\n",
    "from tensorflow.keras.utils import to_categorical"
   ]
  },
  {
   "cell_type": "code",
   "execution_count": 9,
   "id": "0bb01c50",
   "metadata": {},
   "outputs": [
    {
     "name": "stdout",
     "output_type": "stream",
     "text": [
      "['img011-001.png', 'img011-002.png', 'img011-003.png', 'img011-004.png', 'img011-005.png']\n",
      "1430\n"
     ]
    }
   ],
   "source": [
    "directory = r\"C:\\Users\\G Sai Madhav\\Desktop\\robotics\\3RD SEM project\\datast\\Img\"\n",
    "files=os.listdir(directory)\n",
    "print(files[0:5])\n",
    "print(len(files))"
   ]
  },
  {
   "cell_type": "code",
   "execution_count": 11,
   "id": "01037e8b",
   "metadata": {},
   "outputs": [
    {
     "name": "stdout",
     "output_type": "stream",
     "text": [
      "['img011-001.png', 'img011-002.png', 'img011-003.png', 'img011-004.png', 'img011-005.png']\n",
      "1430\n"
     ]
    }
   ],
   "source": [
    "# filename and image data\n",
    "datafile=[]\n",
    "data=[]\n",
    "for file in files:\n",
    "    image=load_img(os.path.join(directory,file),grayscale=False,color_mode='rgb',target_size=(100,100))\n",
    "    image=img_to_array(image)\n",
    "    image=image/255.0\n",
    "    data+=[image]\n",
    "    datafile+=[file]\n",
    "print(datafile[0:5])\n",
    "print(len(datafile))\n"
   ]
  },
  {
   "cell_type": "code",
   "execution_count": 12,
   "id": "0dce6a90",
   "metadata": {},
   "outputs": [
    {
     "data": {
      "text/plain": [
       "(1430, 100, 100, 3)"
      ]
     },
     "execution_count": 12,
     "metadata": {},
     "output_type": "execute_result"
    }
   ],
   "source": [
    "data1=np.array(data)\n",
    "data1.shape"
   ]
  },
  {
   "cell_type": "code",
   "execution_count": 13,
   "id": "cee74c08",
   "metadata": {},
   "outputs": [
    {
     "data": {
      "text/html": [
       "<div>\n",
       "<style scoped>\n",
       "    .dataframe tbody tr th:only-of-type {\n",
       "        vertical-align: middle;\n",
       "    }\n",
       "\n",
       "    .dataframe tbody tr th {\n",
       "        vertical-align: top;\n",
       "    }\n",
       "\n",
       "    .dataframe thead th {\n",
       "        text-align: right;\n",
       "    }\n",
       "</style>\n",
       "<table border=\"1\" class=\"dataframe\">\n",
       "  <thead>\n",
       "    <tr style=\"text-align: right;\">\n",
       "      <th></th>\n",
       "      <th>image</th>\n",
       "      <th>label</th>\n",
       "    </tr>\n",
       "  </thead>\n",
       "  <tbody>\n",
       "    <tr>\n",
       "      <th>0</th>\n",
       "      <td>Img/img011-001.png</td>\n",
       "      <td>A</td>\n",
       "    </tr>\n",
       "    <tr>\n",
       "      <th>1</th>\n",
       "      <td>Img/img011-002.png</td>\n",
       "      <td>A</td>\n",
       "    </tr>\n",
       "    <tr>\n",
       "      <th>2</th>\n",
       "      <td>Img/img011-003.png</td>\n",
       "      <td>A</td>\n",
       "    </tr>\n",
       "    <tr>\n",
       "      <th>3</th>\n",
       "      <td>Img/img011-004.png</td>\n",
       "      <td>A</td>\n",
       "    </tr>\n",
       "    <tr>\n",
       "      <th>4</th>\n",
       "      <td>Img/img011-005.png</td>\n",
       "      <td>A</td>\n",
       "    </tr>\n",
       "  </tbody>\n",
       "</table>\n",
       "</div>"
      ],
      "text/plain": [
       "                image label\n",
       "0  Img/img011-001.png     A\n",
       "1  Img/img011-002.png     A\n",
       "2  Img/img011-003.png     A\n",
       "3  Img/img011-004.png     A\n",
       "4  Img/img011-005.png     A"
      ]
     },
     "execution_count": 13,
     "metadata": {},
     "output_type": "execute_result"
    }
   ],
   "source": [
    "engl=pd.read_csv(r\"C:\\Users\\G Sai Madhav\\Desktop\\robotics\\3RD SEM project\\datast\\english.csv\")\n",
    "engl.head()"
   ]
  },
  {
   "cell_type": "code",
   "execution_count": 14,
   "id": "a4c236d8",
   "metadata": {},
   "outputs": [
    {
     "name": "stdout",
     "output_type": "stream",
     "text": [
      "[ 0  0  0 ... 25 25 25]\n",
      "Index(['A', 'B', 'C', 'D', 'E', 'F', 'G', 'H', 'I', 'J', 'K', 'L', 'M', 'N',\n",
      "       'O', 'P', 'Q', 'R', 'S', 'T', 'U', 'V', 'W', 'X', 'Y', 'Z'],\n",
      "      dtype='object')\n"
     ]
    }
   ],
   "source": [
    "factlabel=pd.factorize(engl['label'])\n",
    "\n",
    "print(factlabel[0])\n",
    "print(factlabel[1])"
   ]
  },
  {
   "cell_type": "code",
   "execution_count": 15,
   "id": "ff4c89e3",
   "metadata": {},
   "outputs": [
    {
     "name": "stdout",
     "output_type": "stream",
     "text": [
      "                image label            file  labeln\n",
      "0  Img/img011-001.png     A  img011-001.png       0\n",
      "1  Img/img011-002.png     A  img011-002.png       0\n",
      "2  Img/img011-003.png     A  img011-003.png       0\n",
      "3  Img/img011-004.png     A  img011-004.png       0\n",
      "4  Img/img011-005.png     A  img011-005.png       0\n"
     ]
    }
   ],
   "source": [
    "labelfile=[]\n",
    "for item in engl['image']:\n",
    "    labelfile+=[item[4:]]\n",
    "engl['file']=labelfile\n",
    "engl['labeln']=factlabel[0]\n",
    "\n",
    "print(engl.head())"
   ]
  },
  {
   "cell_type": "code",
   "execution_count": 16,
   "id": "e140f789",
   "metadata": {},
   "outputs": [
    {
     "name": "stdout",
     "output_type": "stream",
     "text": [
      "[25, 25, 25, 25, 25, 25, 25, 25, 25]\n",
      "['img012-046.png', 'img012-047.png', 'img012-048.png', 'img012-049.png', 'img012-050.png', 'img012-051.png', 'img012-052.png', 'img012-053.png', 'img012-054.png', 'img012-055.png']\n"
     ]
    }
   ],
   "source": [
    "engl2=[]\n",
    "for item in datafile:\n",
    "    #print([engl['labeln'][engl['file']==item]])\n",
    "    engl2+=[engl['labeln'][engl['file']==item].values[0]]\n",
    "    \n",
    "print(engl2[1420:1429])\n",
    "print(datafile[100:110])\n"
   ]
  },
  {
   "cell_type": "code",
   "execution_count": 17,
   "id": "a713835f",
   "metadata": {},
   "outputs": [
    {
     "name": "stdout",
     "output_type": "stream",
     "text": [
      "Data Shape:(1430, 100, 100, 3)\n",
      "Labels shape: (1430, 26)\n"
     ]
    }
   ],
   "source": [
    "labels1=to_categorical(engl2)\n",
    "labels2=np.array(labels1)\n",
    "\n",
    "print(\"Data Shape:{}\\nLabels shape: {}\".format(data1.shape,labels2.shape))\n",
    "xtr = data1\n",
    "xt = data1"
   ]
  },
  {
   "cell_type": "code",
   "execution_count": 18,
   "id": "9784bf6a",
   "metadata": {},
   "outputs": [
    {
     "name": "stdout",
     "output_type": "stream",
     "text": [
      "Amount of each labels\n"
     ]
    },
    {
     "data": {
      "image/png": "[encoded data removed]",
      "text/plain": [
       "<Figure size 1000x1000 with 1 Axes>"
      ]
     },
     "metadata": {},
     "output_type": "display_data"
    },
    {
     "name": "stdout",
     "output_type": "stream",
     "text": [
      "55\n",
      "{55}\n"
     ]
    }
   ],
   "source": [
    "print(\"Amount of each labels\")\n",
    "saples = []\n",
    "\n",
    "# Change label to alphabets\n",
    "alphabets_mapper = {0:'A',1:'B',2:'C',3:'D',4:'E',5:'F',6:'G',7:'H',8:'I',9:'J',10:'K',11:'L',12:'M',13:'N',14:'O',15:'P',16:'Q',17:'R',18:'S',19:'T',20:'U',21:'V',22:'W',23:'X',24:'Y',25:'Z'} \n",
    "\n",
    "\n",
    "label_size = engl.groupby('label').size()\n",
    "label_size.plot.bar(figsize=(10,10))\n",
    "plt.show()\n",
    "\n",
    "\n",
    "for i in label_size:\n",
    "        saples.append(i)\n",
    "\n",
    "print(label_size['A'])\n",
    "print(set(saples))"
   ]
  },
  {
   "cell_type": "code",
   "execution_count": 19,
   "id": "7723e35a",
   "metadata": {},
   "outputs": [],
   "source": [
    "from sklearn.model_selection import train_test_split\n",
    "trainx,testx,trainy,testy=train_test_split(data1,labels2,test_size=0.2,random_state=44)"
   ]
  },
  {
   "cell_type": "code",
   "execution_count": 20,
   "id": "c8c14730",
   "metadata": {},
   "outputs": [
    {
     "name": "stdout",
     "output_type": "stream",
     "text": [
      "(1144, 100, 100, 3)\n",
      "(1144, 26)\n",
      "(286, 100, 100, 3)\n",
      "(286, 26)\n",
      "(1430, 100, 100, 3)\n",
      "(1430, 26)\n"
     ]
    }
   ],
   "source": [
    "print(trainx.shape)\n",
    "print(trainy.shape)\n",
    "print(testx.shape)\n",
    "print(testy.shape)\n",
    "print(data1.shape)\n",
    "print(labels2.shape)"
   ]
  },
  {
   "cell_type": "code",
   "execution_count": 38,
   "id": "61550642",
   "metadata": {},
   "outputs": [
    {
     "name": "stdout",
     "output_type": "stream",
     "text": [
      "Epoch 1/10\n",
      "36/36 [==============================] - 33s 869ms/step - loss: 2.3379 - accuracy: 0.4108 - val_loss: 1.4134 - val_accuracy: 0.7587\n",
      "Epoch 2/10\n",
      "36/36 [==============================] - 38s 1s/step - loss: 1.0178 - accuracy: 0.8671 - val_loss: 0.8566 - val_accuracy: 0.8531\n",
      "Epoch 3/10\n",
      "36/36 [==============================] - 38s 1s/step - loss: 0.6327 - accuracy: 0.9344 - val_loss: 0.6161 - val_accuracy: 0.8846\n",
      "Epoch 4/10\n",
      "36/36 [==============================] - 38s 1s/step - loss: 0.4713 - accuracy: 0.9502 - val_loss: 0.4999 - val_accuracy: 0.9091\n",
      "Epoch 5/10\n",
      "36/36 [==============================] - 38s 1s/step - loss: 0.3645 - accuracy: 0.9642 - val_loss: 0.4285 - val_accuracy: 0.9196\n",
      "Epoch 6/10\n",
      "36/36 [==============================] - 38s 1s/step - loss: 0.2912 - accuracy: 0.9720 - val_loss: 0.3948 - val_accuracy: 0.9161\n",
      "Epoch 7/10\n",
      "36/36 [==============================] - 39s 1s/step - loss: 0.2535 - accuracy: 0.9738 - val_loss: 0.3735 - val_accuracy: 0.9021\n",
      "Epoch 8/10\n",
      "36/36 [==============================] - 39s 1s/step - loss: 0.2122 - accuracy: 0.9790 - val_loss: 0.3359 - val_accuracy: 0.9231\n",
      "Epoch 9/10\n",
      "36/36 [==============================] - 39s 1s/step - loss: 0.1839 - accuracy: 0.9843 - val_loss: 0.3045 - val_accuracy: 0.9336\n",
      "Epoch 10/10\n",
      "36/36 [==============================] - 39s 1s/step - loss: 0.1583 - accuracy: 0.9869 - val_loss: 0.2816 - val_accuracy: 0.9580\n"
     ]
    }
   ],
   "source": [
    "callback = tf.keras.callbacks.EarlyStopping(monitor='loss', patience=6)\n",
    "\n",
    "history = model.fit(trainx, trainy, epochs=10,validation_data=(testx,testy),callbacks=[callback])"
   ]
  },
  {
   "cell_type": "code",
   "execution_count": 53,
   "id": "42b43bc8",
   "metadata": {},
   "outputs": [
    {
     "name": "stdout",
     "output_type": "stream",
     "text": [
      "9/9 [==============================] - 11s 1s/step\n"
     ]
    }
   ],
   "source": [
    "predictions = model.predict(testx)"
   ]
  },
  {
   "cell_type": "code",
   "execution_count": 60,
   "id": "e971d40e",
   "metadata": {},
   "outputs": [
    {
     "data": {
      "text/plain": [
       "16"
      ]
     },
     "execution_count": 60,
     "metadata": {},
     "output_type": "execute_result"
    }
   ],
   "source": [
    "np.argmax(predictions[10])"
   ]
  },
  {
   "cell_type": "code",
   "execution_count": 61,
   "id": "ae285df6",
   "metadata": {},
   "outputs": [
    {
     "data": {
      "text/plain": [
       "16"
      ]
     },
     "execution_count": 61,
     "metadata": {},
     "output_type": "execute_result"
    }
   ],
   "source": [
    "np.argmax(testy[10])"
   ]
  },
  {
   "cell_type": "code",
   "execution_count": 62,
   "id": "d346bdfe",
   "metadata": {},
   "outputs": [
    {
     "name": "stdout",
     "output_type": "stream",
     "text": [
      "9/9 [==============================] - 11s 1s/step - loss: 0.2988 - accuracy: 0.9406\n"
     ]
    },
    {
     "data": {
      "text/plain": [
       "[0.2987712025642395, 0.940559446811676]"
      ]
     },
     "execution_count": 62,
     "metadata": {},
     "output_type": "execute_result"
    }
   ],
   "source": [
    "model.evaluate(testx,testy)"
   ]
  },
  {
   "cell_type": "code",
   "execution_count": 50,
   "id": "f4c84811",
   "metadata": {
    "scrolled": false
   },
   "outputs": [
    {
     "name": "stdout",
     "output_type": "stream",
     "text": [
      "9/9 [==============================] - 6s 622ms/step\n"
     ]
    },
    {
     "data": {
      "text/plain": [
       "<AxesSubplot:>"
      ]
     },
     "execution_count": 50,
     "metadata": {},
     "output_type": "execute_result"
    },
    {
     "data": {
      "image/png": "[encoded data removed]",
      "text/plain": [
       "<Figure size 1300x800 with 2 Axes>"
      ]
     },
     "metadata": {},
     "output_type": "display_data"
    }
   ],
   "source": [
    "from sklearn.metrics import confusion_matrix\n",
    "import seaborn as sns\n",
    "\n",
    "cm=confusion_matrix(testy.argmax(axis=1),model.predict(testx).argmax(axis=1))\n",
    "df_cm = pd.DataFrame(cm, range(26),\n",
    "                  range(26))\n",
    "plt.figure(figsize = (13,8))\n",
    "sns.set(font_scale=1)#for label size\n",
    "sns.heatmap(df_cm, annot=True,annot_kws={\"size\": 16})# font size"
   ]
  },
  {
   "cell_type": "code",
   "execution_count": 48,
   "id": "51a856b7",
   "metadata": {},
   "outputs": [
    {
     "name": "stdout",
     "output_type": "stream",
     "text": [
      "9/9 [==============================] - 10s 591ms/step\n",
      "              precision    recall  f1-score   support\n",
      "\n",
      "           0       0.91      0.91      0.91        11\n",
      "           1       1.00      0.89      0.94         9\n",
      "           2       1.00      1.00      1.00        10\n",
      "           3       0.92      1.00      0.96        11\n",
      "           4       0.92      1.00      0.96        11\n",
      "           5       1.00      1.00      1.00        12\n",
      "           6       1.00      0.89      0.94         9\n",
      "           7       1.00      1.00      1.00        16\n",
      "           8       1.00      1.00      1.00         6\n",
      "           9       0.92      0.92      0.92        12\n",
      "          10       1.00      0.93      0.97        15\n",
      "          11       1.00      0.89      0.94         9\n",
      "          12       0.88      0.88      0.88         8\n",
      "          13       1.00      0.93      0.97        15\n",
      "          14       1.00      1.00      1.00         9\n",
      "          15       1.00      0.89      0.94         9\n",
      "          16       1.00      1.00      1.00        12\n",
      "          17       1.00      1.00      1.00        12\n",
      "          18       1.00      1.00      1.00        15\n",
      "          19       1.00      1.00      1.00        12\n",
      "          20       0.92      0.79      0.85        14\n",
      "          21       0.88      1.00      0.93         7\n",
      "          22       0.62      1.00      0.77         5\n",
      "          23       1.00      1.00      1.00        12\n",
      "          24       1.00      1.00      1.00        15\n",
      "          25       0.83      1.00      0.91        10\n",
      "\n",
      "    accuracy                           0.96       286\n",
      "   macro avg       0.95      0.96      0.95       286\n",
      "weighted avg       0.96      0.96      0.96       286\n",
      "\n"
     ]
    }
   ],
   "source": [
    "from sklearn.metrics import classification_report\n",
    "\n",
    "class_model = (classification_report(model.predict(testx).argmax(axis=1),testy.argmax(axis=1)))\n",
    "print(class_model)\n"
   ]
  },
  {
   "cell_type": "code",
   "execution_count": 54,
   "id": "52224b3f",
   "metadata": {},
   "outputs": [
    {
     "name": "stdout",
     "output_type": "stream",
     "text": [
      "[0.90909091 0.88888889 1.         1.         1.         1.\n",
      " 0.88888889 1.         1.         0.91666667 0.93333333 0.88888889\n",
      " 0.875      0.93333333 1.         0.88888889 1.         1.\n",
      " 1.         1.         0.78571429 1.         1.         1.\n",
      " 1.         1.        ]\n"
     ]
    }
   ],
   "source": [
    "class_wise_accuracy = cm.diagonal()/cm.sum(axis=0)\n",
    "print(class_wise_accuracy)"
   ]
  },
  {
   "cell_type": "code",
   "execution_count": 43,
   "id": "245ab493",
   "metadata": {},
   "outputs": [
    {
     "data": {
      "image/png": "[encoded data removed]",
      "text/plain": [
       "<Figure size 640x480 with 1 Axes>"
      ]
     },
     "metadata": {},
     "output_type": "display_data"
    }
   ],
   "source": [
    "plt.plot(history.history['loss'])\n",
    "plt.plot(history.history['val_loss'])\n",
    "plt.ylabel('Loss')\n",
    "plt.xlabel('Epoch')\n",
    "plt.legend(['loss','validation loss'])\n",
    "plt.show()"
   ]
  },
  {
   "cell_type": "code",
   "execution_count": 47,
   "id": "a69e5f36",
   "metadata": {},
   "outputs": [
    {
     "data": {
      "image/png": "[encoded data removed]",
      "text/plain": [
       "<Figure size 640x480 with 1 Axes>"
      ]
     },
     "metadata": {},
     "output_type": "display_data"
    }
   ],
   "source": [
    "plt.plot(history.history['accuracy'])\n",
    "plt.plot(history.history['val_accuracy'])\n",
    "plt.ylabel('Loss')\n",
    "plt.xlabel('Epoch')\n",
    "plt.legend(['accuracy','validation accuracy'])\n",
    "plt.show()"
   ]
  },
  {
   "cell_type": "code",
   "execution_count": 98,
   "id": "e8db7583",
   "metadata": {},
   "outputs": [],
   "source": [
    "model.save('vgg16_character_recog.h5')"
   ]
  },
  {
   "cell_type": "code",
   "execution_count": 55,
   "id": "00790c69",
   "metadata": {},
   "outputs": [
    {
     "name": "stdout",
     "output_type": "stream",
     "text": [
      "9/9 [==============================] - 6s 684ms/step\n"
     ]
    },
    {
     "data": {
      "text/plain": [
       "array([13, 14, 11, 13, 15, 23,  3, 11, 21,  5, 16,  0,  7,  7, 13, 10, 24,\n",
       "       25, 10,  3,  6, 16,  0, 25,  4, 17, 23,  7, 17,  2, 15, 11,  6,  1,\n",
       "       25,  6,  6,  8, 11, 18, 23,  5, 20, 12, 20,  9,  3, 13,  7,  0, 18,\n",
       "        8, 18,  5,  7,  4, 13, 16,  9, 12,  1, 14,  3, 20, 20, 24, 14, 19,\n",
       "        9, 23,  9, 18,  2,  4, 18, 10, 24,  5,  7, 19, 19, 18,  3, 10, 10,\n",
       "       23,  4, 16, 24, 19, 18,  9,  3, 11, 10, 16, 15, 25, 15, 24,  5,  2,\n",
       "       18, 13, 18, 12, 22,  4, 16, 17,  7, 13, 24, 18, 24, 18,  2, 13, 21,\n",
       "        4, 15, 24, 17,  0,  9,  2, 17, 17, 12,  7,  7, 14,  4, 23, 10, 20,\n",
       "       13,  9, 24,  4,  5,  7,  1, 23, 16, 19,  4,  4,  9, 10, 20, 10, 19,\n",
       "       18, 10, 20, 13,  5,  7, 20, 21, 10,  6, 17,  8, 15, 22, 24, 12,  7,\n",
       "       20,  0,  2, 17,  5, 18, 24, 25, 25, 25,  2,  0, 10,  0, 10, 19,  7,\n",
       "        1,  2, 16,  6, 21, 19, 16,  9, 13, 25, 15, 24, 23, 20, 24,  4, 13,\n",
       "       14,  3,  1,  0,  5,  0, 14,  1,  0, 13,  1, 22, 20, 19,  8, 13, 25,\n",
       "       11, 12, 22, 14, 12,  2, 15, 12, 23, 19, 18,  8, 14, 22,  2, 20,  3,\n",
       "        5, 11, 15, 17, 10, 23, 24,  3,  7, 18,  1, 16,  9,  5, 24,  9,  5,\n",
       "       13, 11,  6,  0,  9,  6, 17, 21, 11, 10, 25, 19, 21, 14, 20, 17, 19,\n",
       "        7, 16, 21,  3, 23,  8,  1,  6, 16, 17,  3,  7, 20, 23],\n",
       "      dtype=int64)"
      ]
     },
     "execution_count": 55,
     "metadata": {},
     "output_type": "execute_result"
    }
   ],
   "source": [
    "model.predict(testx).argmax(axis=1)"
   ]
  },
  {
   "cell_type": "code",
   "execution_count": 56,
   "id": "4530f0bc",
   "metadata": {},
   "outputs": [
    {
     "data": {
      "text/plain": [
       "array([13, 14, 25, 13, 15, 23,  3, 11, 21,  5, 16,  0,  7,  7, 13, 10, 24,\n",
       "       25, 10,  3,  6, 16,  0, 25,  4, 17, 23,  7, 17,  2, 15, 11,  6,  1,\n",
       "       25,  6,  6,  8, 11, 18, 23,  5, 22, 12, 22,  9,  3, 13,  7,  0, 18,\n",
       "        8, 18,  5,  7,  4, 13, 16,  9, 12,  1, 14,  3, 20, 20, 24, 14, 19,\n",
       "        9, 23, 25, 18,  2,  4, 18, 10, 24,  5,  7, 19, 19, 18,  3, 10, 10,\n",
       "       23,  4, 16, 24, 19, 18,  9,  3, 11, 10, 16, 15, 25, 15, 24,  5,  2,\n",
       "       18, 13, 18, 12, 22,  4, 16, 17,  7, 13, 24, 18, 24, 18,  2, 13, 21,\n",
       "        4, 15, 24, 17,  0,  9,  2, 17, 17, 12,  7,  7, 14,  4, 23, 10, 20,\n",
       "       13,  9, 24,  4,  5,  7,  1, 23, 16, 19,  4,  4,  9, 10, 20, 10, 19,\n",
       "       18, 10, 20, 13,  5,  7, 20, 21, 10,  6, 17,  8, 15, 22, 24, 12,  7,\n",
       "       20,  0,  2, 17,  5, 18, 24, 25, 25, 25,  2,  0, 20,  0, 10, 19,  7,\n",
       "        1,  2, 16,  6, 21, 19, 16,  9, 13, 25, 15, 24, 23, 20, 24,  4, 13,\n",
       "       14,  3,  1,  0,  5, 12, 14,  1,  0, 13, 21, 22, 20, 19,  8, 13, 25,\n",
       "       11, 12, 22, 14, 12,  2, 15,  0, 23, 19, 18,  8, 14, 22,  2, 20,  3,\n",
       "        5, 11,  3, 17, 10, 23, 24,  3,  7, 18,  1, 16,  9,  5, 24,  9,  5,\n",
       "       22, 11,  4,  0,  9,  6, 17, 21, 11, 10, 25, 19, 21, 14, 20, 17, 19,\n",
       "        7, 16, 21,  3, 23,  8,  1,  6, 16, 17,  3,  7,  9, 23],\n",
       "      dtype=int64)"
      ]
     },
     "execution_count": 56,
     "metadata": {},
     "output_type": "execute_result"
    }
   ],
   "source": [
    "testy.argmax(axis=1)"
   ]
  },
  {
   "cell_type": "code",
   "execution_count": null,
   "id": "17ba3fd5",
   "metadata": {},
   "outputs": [],
   "source": []
  }
 ],
 "metadata": {
  "kernelspec": {
   "display_name": "Python 3 (ipykernel)",
   "language": "python",
   "name": "python3"
  },
  "language_info": {
   "codemirror_mode": {
    "name": "ipython",
    "version": 3
   },
   "file_extension": ".py",
   "mimetype": "text/x-python",
   "name": "python",
   "nbconvert_exporter": "python",
   "pygments_lexer": "ipython3",
   "version": "3.9.13"
  }
 },
 "nbformat": 4,
 "nbformat_minor": 5
}
